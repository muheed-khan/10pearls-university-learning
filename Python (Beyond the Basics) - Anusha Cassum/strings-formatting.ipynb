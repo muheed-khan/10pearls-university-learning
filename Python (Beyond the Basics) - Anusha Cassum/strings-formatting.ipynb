{
 "cells": [
  {
   "cell_type": "markdown",
   "metadata": {},
   "source": [
    "Python Beyond the Basics "
   ]
  },
  {
   "cell_type": "markdown",
   "metadata": {},
   "source": [
    "Strings Formatting"
   ]
  },
  {
   "cell_type": "code",
   "execution_count": 1,
   "metadata": {},
   "outputs": [
    {
     "name": "stdout",
     "output_type": "stream",
     "text": [
      "My Name is Muheed Ahmed Khan\n"
     ]
    }
   ],
   "source": [
    "name = \"Muheed Ahmed Khan\"\n",
    "field = \"Computer Science\"\n",
    "print(\"My Name is {}\".format(name))"
   ]
  },
  {
   "cell_type": "code",
   "execution_count": 2,
   "metadata": {},
   "outputs": [
    {
     "name": "stdout",
     "output_type": "stream",
     "text": [
      "I am Muheed Ahmed Khan, student of Computer Science\n"
     ]
    }
   ],
   "source": [
    "print(\"I am {1}, student of {0}\".format(field,name))"
   ]
  },
  {
   "cell_type": "code",
   "execution_count": 3,
   "metadata": {},
   "outputs": [
    {
     "name": "stdout",
     "output_type": "stream",
     "text": [
      "I am Muheed Ahmed Khan, student of Computer Science\n"
     ]
    }
   ],
   "source": [
    "details = {\"name\" : \"Muheed Ahmed Khan\", \"field\" : \"Computer Science\"}\n",
    "print(\"I am {name}, student of {field}\".format(name=details[\"name\"],field=details[\"field\"]))"
   ]
  },
  {
   "cell_type": "code",
   "execution_count": 4,
   "metadata": {},
   "outputs": [
    {
     "name": "stdout",
     "output_type": "stream",
     "text": [
      "I am Muheed Ahmed Khan, student of Computer Science\n"
     ]
    }
   ],
   "source": [
    "print(\"I am {name}, student of {field}\".format(**details))"
   ]
  },
  {
   "cell_type": "code",
   "execution_count": 5,
   "metadata": {},
   "outputs": [],
   "source": [
    "import timeit"
   ]
  },
  {
   "cell_type": "markdown",
   "metadata": {},
   "source": [
    "<h4>Technique 1 </h4>"
   ]
  },
  {
   "cell_type": "code",
   "execution_count": 6,
   "metadata": {},
   "outputs": [
    {
     "name": "stdout",
     "output_type": "stream",
     "text": [
      "0.199653800111264\n"
     ]
    }
   ],
   "source": [
    "tech1 = timeit.timeit(\"\"\" \n",
    "x =  'Hello! '\n",
    "y = 'I Am Muheed.'\n",
    "x + \" \" + y\n",
    "\"\"\")\n",
    "\n",
    "print(tech1)"
   ]
  },
  {
   "cell_type": "markdown",
   "metadata": {},
   "source": [
    "<h4> Technique 2 </h4>"
   ]
  },
  {
   "cell_type": "code",
   "execution_count": 7,
   "metadata": {},
   "outputs": [
    {
     "name": "stdout",
     "output_type": "stream",
     "text": [
      "0.28620760003104806\n"
     ]
    }
   ],
   "source": [
    "tech2 = timeit.timeit(\"\"\" \n",
    "x =  'Hello! '\n",
    "y = 'I Am Muheed.'\n",
    "\" \".join((x,y))\n",
    "\"\"\")\n",
    "\n",
    "print(tech2)"
   ]
  },
  {
   "cell_type": "markdown",
   "metadata": {},
   "source": [
    "<h4> Technique 3 </h4>"
   ]
  },
  {
   "cell_type": "code",
   "execution_count": 8,
   "metadata": {},
   "outputs": [
    {
     "name": "stdout",
     "output_type": "stream",
     "text": [
      "0.19446739996783435\n"
     ]
    }
   ],
   "source": [
    "tech3 = timeit.timeit(\"\"\" \n",
    "x =  'Hello! '\n",
    "y = 'I Am Muheed.'\n",
    "\"%s %s\" % (x,y)\n",
    "\"\"\")\n",
    "\n",
    "print(tech3)"
   ]
  }
 ],
 "metadata": {
  "kernelspec": {
   "display_name": "Python 3",
   "language": "python",
   "name": "python3"
  },
  "language_info": {
   "codemirror_mode": {
    "name": "ipython",
    "version": 3
   },
   "file_extension": ".py",
   "mimetype": "text/x-python",
   "name": "python",
   "nbconvert_exporter": "python",
   "pygments_lexer": "ipython3",
   "version": "3.11.4"
  }
 },
 "nbformat": 4,
 "nbformat_minor": 2
}
